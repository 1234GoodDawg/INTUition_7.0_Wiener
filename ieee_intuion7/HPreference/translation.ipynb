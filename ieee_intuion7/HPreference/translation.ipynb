{
  "nbformat": 4,
  "nbformat_minor": 0,
  "metadata": {
    "colab": {
      "name": "translation.ipynb",
      "provenance": []
    },
    "kernelspec": {
      "name": "python3",
      "display_name": "Python 3"
    }
  },
  "cells": [
    {
      "cell_type": "code",
      "metadata": {
        "colab": {
          "base_uri": "https://localhost:8080/"
        },
        "id": "2eEFi9Jywkxj",
        "outputId": "c9d9e2ec-428d-4756-93e4-6f35e519faf2"
      },
      "source": [
        "pip install googletrans==3.1.0a0"
      ],
      "execution_count": 1,
      "outputs": [
        {
          "output_type": "stream",
          "text": [
            "Requirement already satisfied: googletrans==3.1.0a0 in /usr/local/lib/python3.7/dist-packages (3.1.0a0)\n",
            "Requirement already satisfied: httpx==0.13.3 in /usr/local/lib/python3.7/dist-packages (from googletrans==3.1.0a0) (0.13.3)\n",
            "Requirement already satisfied: httpcore==0.9.* in /usr/local/lib/python3.7/dist-packages (from httpx==0.13.3->googletrans==3.1.0a0) (0.9.1)\n",
            "Requirement already satisfied: sniffio in /usr/local/lib/python3.7/dist-packages (from httpx==0.13.3->googletrans==3.1.0a0) (1.2.0)\n",
            "Requirement already satisfied: chardet==3.* in /usr/local/lib/python3.7/dist-packages (from httpx==0.13.3->googletrans==3.1.0a0) (3.0.4)\n",
            "Requirement already satisfied: idna==2.* in /usr/local/lib/python3.7/dist-packages (from httpx==0.13.3->googletrans==3.1.0a0) (2.10)\n",
            "Requirement already satisfied: rfc3986<2,>=1.3 in /usr/local/lib/python3.7/dist-packages (from httpx==0.13.3->googletrans==3.1.0a0) (1.4.0)\n",
            "Requirement already satisfied: certifi in /usr/local/lib/python3.7/dist-packages (from httpx==0.13.3->googletrans==3.1.0a0) (2020.12.5)\n",
            "Requirement already satisfied: hstspreload in /usr/local/lib/python3.7/dist-packages (from httpx==0.13.3->googletrans==3.1.0a0) (2020.12.22)\n",
            "Requirement already satisfied: h11<0.10,>=0.8 in /usr/local/lib/python3.7/dist-packages (from httpcore==0.9.*->httpx==0.13.3->googletrans==3.1.0a0) (0.9.0)\n",
            "Requirement already satisfied: h2==3.* in /usr/local/lib/python3.7/dist-packages (from httpcore==0.9.*->httpx==0.13.3->googletrans==3.1.0a0) (3.2.0)\n",
            "Requirement already satisfied: hyperframe<6,>=5.2.0 in /usr/local/lib/python3.7/dist-packages (from h2==3.*->httpcore==0.9.*->httpx==0.13.3->googletrans==3.1.0a0) (5.2.0)\n",
            "Requirement already satisfied: hpack<4,>=3.0 in /usr/local/lib/python3.7/dist-packages (from h2==3.*->httpcore==0.9.*->httpx==0.13.3->googletrans==3.1.0a0) (3.0.0)\n"
          ],
          "name": "stdout"
        }
      ]
    },
    {
      "cell_type": "code",
      "metadata": {
        "id": "fCP82n2dw96g"
      },
      "source": [
        "translator = Translator()\n",
        "\n",
        "result = translator.translate('六价铬化合物')"
      ],
      "execution_count": 4,
      "outputs": []
    },
    {
      "cell_type": "code",
      "metadata": {
        "id": "Ma0nHo0kn24z"
      },
      "source": [
        "file = 'chemicals_chinese.pdf'"
      ],
      "execution_count": 7,
      "outputs": []
    },
    {
      "cell_type": "code",
      "metadata": {
        "id": "BEb1utEeoGfE"
      },
      "source": [
        "tabula.convert_into(file,'data.csv', pages='all')"
      ],
      "execution_count": 27,
      "outputs": []
    },
    {
      "cell_type": "code",
      "metadata": {
        "id": "UnyjOn56oNyq"
      },
      "source": [
        "import tabula"
      ],
      "execution_count": 9,
      "outputs": []
    },
    {
      "cell_type": "code",
      "metadata": {
        "id": "nfh0DUbaoP_a"
      },
      "source": [
        "df = pd.read_csv('data.csv')  "
      ],
      "execution_count": 24,
      "outputs": []
    },
    {
      "cell_type": "code",
      "metadata": {
        "id": "9mn25Fd9oTHx"
      },
      "source": [
        "# !pip install googletrans\n",
        "# !pip install tabula-py\n",
        "\n",
        "import pandas as pd\n",
        "import googletrans\n",
        "from googletrans import Translator\n",
        "import tabula\n"
      ],
      "execution_count": null,
      "outputs": []
    },
    {
      "cell_type": "code",
      "metadata": {
        "colab": {
          "base_uri": "https://localhost:8080/"
        },
        "id": "tlilwE39qIGG",
        "outputId": "9528aa0f-bf33-4ba4-8c00-0e644c8c5641"
      },
      "source": [
        "for column in df.columns:\n",
        "\n",
        "  df.apply(translator)"
      ],
      "execution_count": 26,
      "outputs": [
        {
          "output_type": "execute_result",
          "data": {
            "text/plain": [
              "Index(['Unnamed: 0', 'ABC有限公司有害物质管理标准', 'Unnamed: 2'], dtype='object')"
            ]
          },
          "metadata": {
            "tags": []
          },
          "execution_count": 26
        }
      ]
    },
    {
      "cell_type": "code",
      "metadata": {
        "colab": {
          "base_uri": "https://localhost:8080/",
          "height": 341
        },
        "id": "hN14_duiqInY",
        "outputId": "66539ab7-e06b-408f-a556-9abdf3f56093"
      },
      "source": [
        "translator = Translator()\n",
        "\n",
        "result = translator.translate(df.iloc[;,1])"
      ],
      "execution_count": 77,
      "outputs": [
        {
          "output_type": "error",
          "ename": "ValueError",
          "evalue": "ignored",
          "traceback": [
            "\u001b[0;31m---------------------------------------------------------------------------\u001b[0m",
            "\u001b[0;31mValueError\u001b[0m                                Traceback (most recent call last)",
            "\u001b[0;32m<ipython-input-77-c10a7cffd3cd>\u001b[0m in \u001b[0;36m<module>\u001b[0;34m()\u001b[0m\n\u001b[1;32m      1\u001b[0m \u001b[0mtranslator\u001b[0m \u001b[0;34m=\u001b[0m \u001b[0mTranslator\u001b[0m\u001b[0;34m(\u001b[0m\u001b[0;34m)\u001b[0m\u001b[0;34m\u001b[0m\u001b[0;34m\u001b[0m\u001b[0m\n\u001b[1;32m      2\u001b[0m \u001b[0;34m\u001b[0m\u001b[0m\n\u001b[0;32m----> 3\u001b[0;31m \u001b[0mresult\u001b[0m \u001b[0;34m=\u001b[0m \u001b[0mtranslator\u001b[0m\u001b[0;34m.\u001b[0m\u001b[0mtranslate\u001b[0m\u001b[0;34m(\u001b[0m\u001b[0mdf\u001b[0m\u001b[0;34m.\u001b[0m\u001b[0miloc\u001b[0m\u001b[0;34m[\u001b[0m\u001b[0;36m1\u001b[0m\u001b[0;34m]\u001b[0m\u001b[0;34m)\u001b[0m\u001b[0;34m\u001b[0m\u001b[0;34m\u001b[0m\u001b[0m\n\u001b[0m",
            "\u001b[0;32m/usr/local/lib/python3.7/dist-packages/googletrans/client.py\u001b[0m in \u001b[0;36mtranslate\u001b[0;34m(self, text, dest, src, **kwargs)\u001b[0m\n\u001b[1;32m    234\u001b[0m                 \u001b[0;32mpass\u001b[0m\u001b[0;34m\u001b[0m\u001b[0;34m\u001b[0m\u001b[0m\n\u001b[1;32m    235\u001b[0m \u001b[0;34m\u001b[0m\u001b[0m\n\u001b[0;32m--> 236\u001b[0;31m         \u001b[0;32mif\u001b[0m \u001b[0mdest\u001b[0m \u001b[0;32min\u001b[0m \u001b[0mEXCLUDES\u001b[0m \u001b[0;32mand\u001b[0m \u001b[0mpron\u001b[0m \u001b[0;34m==\u001b[0m \u001b[0morigin\u001b[0m\u001b[0;34m:\u001b[0m\u001b[0;34m\u001b[0m\u001b[0;34m\u001b[0m\u001b[0m\n\u001b[0m\u001b[1;32m    237\u001b[0m             \u001b[0mpron\u001b[0m \u001b[0;34m=\u001b[0m \u001b[0mtranslated\u001b[0m\u001b[0;34m\u001b[0m\u001b[0;34m\u001b[0m\u001b[0m\n\u001b[1;32m    238\u001b[0m \u001b[0;34m\u001b[0m\u001b[0m\n",
            "\u001b[0;32m/usr/local/lib/python3.7/dist-packages/pandas/core/ops/common.py\u001b[0m in \u001b[0;36mnew_method\u001b[0;34m(self, other)\u001b[0m\n\u001b[1;32m     63\u001b[0m         \u001b[0mother\u001b[0m \u001b[0;34m=\u001b[0m \u001b[0mitem_from_zerodim\u001b[0m\u001b[0;34m(\u001b[0m\u001b[0mother\u001b[0m\u001b[0;34m)\u001b[0m\u001b[0;34m\u001b[0m\u001b[0;34m\u001b[0m\u001b[0m\n\u001b[1;32m     64\u001b[0m \u001b[0;34m\u001b[0m\u001b[0m\n\u001b[0;32m---> 65\u001b[0;31m         \u001b[0;32mreturn\u001b[0m \u001b[0mmethod\u001b[0m\u001b[0;34m(\u001b[0m\u001b[0mself\u001b[0m\u001b[0;34m,\u001b[0m \u001b[0mother\u001b[0m\u001b[0;34m)\u001b[0m\u001b[0;34m\u001b[0m\u001b[0;34m\u001b[0m\u001b[0m\n\u001b[0m\u001b[1;32m     66\u001b[0m \u001b[0;34m\u001b[0m\u001b[0m\n\u001b[1;32m     67\u001b[0m     \u001b[0;32mreturn\u001b[0m \u001b[0mnew_method\u001b[0m\u001b[0;34m\u001b[0m\u001b[0;34m\u001b[0m\u001b[0m\n",
            "\u001b[0;32m/usr/local/lib/python3.7/dist-packages/pandas/core/ops/__init__.py\u001b[0m in \u001b[0;36mwrapper\u001b[0;34m(self, other)\u001b[0m\n\u001b[1;32m    368\u001b[0m         \u001b[0mrvalues\u001b[0m \u001b[0;34m=\u001b[0m \u001b[0mextract_array\u001b[0m\u001b[0;34m(\u001b[0m\u001b[0mother\u001b[0m\u001b[0;34m,\u001b[0m \u001b[0mextract_numpy\u001b[0m\u001b[0;34m=\u001b[0m\u001b[0;32mTrue\u001b[0m\u001b[0;34m)\u001b[0m\u001b[0;34m\u001b[0m\u001b[0;34m\u001b[0m\u001b[0m\n\u001b[1;32m    369\u001b[0m \u001b[0;34m\u001b[0m\u001b[0m\n\u001b[0;32m--> 370\u001b[0;31m         \u001b[0mres_values\u001b[0m \u001b[0;34m=\u001b[0m \u001b[0mcomparison_op\u001b[0m\u001b[0;34m(\u001b[0m\u001b[0mlvalues\u001b[0m\u001b[0;34m,\u001b[0m \u001b[0mrvalues\u001b[0m\u001b[0;34m,\u001b[0m \u001b[0mop\u001b[0m\u001b[0;34m)\u001b[0m\u001b[0;34m\u001b[0m\u001b[0;34m\u001b[0m\u001b[0m\n\u001b[0m\u001b[1;32m    371\u001b[0m \u001b[0;34m\u001b[0m\u001b[0m\n\u001b[1;32m    372\u001b[0m         \u001b[0;32mreturn\u001b[0m \u001b[0mself\u001b[0m\u001b[0;34m.\u001b[0m\u001b[0m_construct_result\u001b[0m\u001b[0;34m(\u001b[0m\u001b[0mres_values\u001b[0m\u001b[0;34m,\u001b[0m \u001b[0mname\u001b[0m\u001b[0;34m=\u001b[0m\u001b[0mres_name\u001b[0m\u001b[0;34m)\u001b[0m\u001b[0;34m\u001b[0m\u001b[0;34m\u001b[0m\u001b[0m\n",
            "\u001b[0;32m/usr/local/lib/python3.7/dist-packages/pandas/core/ops/array_ops.py\u001b[0m in \u001b[0;36mcomparison_op\u001b[0;34m(left, right, op)\u001b[0m\n\u001b[1;32m    223\u001b[0m         \u001b[0;32mif\u001b[0m \u001b[0mlen\u001b[0m\u001b[0;34m(\u001b[0m\u001b[0mlvalues\u001b[0m\u001b[0;34m)\u001b[0m \u001b[0;34m!=\u001b[0m \u001b[0mlen\u001b[0m\u001b[0;34m(\u001b[0m\u001b[0mrvalues\u001b[0m\u001b[0;34m)\u001b[0m\u001b[0;34m:\u001b[0m\u001b[0;34m\u001b[0m\u001b[0;34m\u001b[0m\u001b[0m\n\u001b[1;32m    224\u001b[0m             raise ValueError(\n\u001b[0;32m--> 225\u001b[0;31m                 \u001b[0;34m\"Lengths must match to compare\"\u001b[0m\u001b[0;34m,\u001b[0m \u001b[0mlvalues\u001b[0m\u001b[0;34m.\u001b[0m\u001b[0mshape\u001b[0m\u001b[0;34m,\u001b[0m \u001b[0mrvalues\u001b[0m\u001b[0;34m.\u001b[0m\u001b[0mshape\u001b[0m\u001b[0;34m\u001b[0m\u001b[0;34m\u001b[0m\u001b[0m\n\u001b[0m\u001b[1;32m    226\u001b[0m             )\n\u001b[1;32m    227\u001b[0m \u001b[0;34m\u001b[0m\u001b[0m\n",
            "\u001b[0;31mValueError\u001b[0m: ('Lengths must match to compare', (3,), (1, 0))"
          ]
        }
      ]
    },
    {
      "cell_type": "code",
      "metadata": {
        "colab": {
          "base_uri": "https://localhost:8080/",
          "height": 35
        },
        "id": "nHSjXDBUtVxL",
        "outputId": "8dde4316-c422-4567-f111-bc65c4088ef9"
      },
      "source": [
        "result"
      ],
      "execution_count": 76,
      "outputs": [
        {
          "output_type": "execute_result",
          "data": {
            "application/vnd.google.colaboratory.intrinsic+json": {
              "type": "string"
            },
            "text/plain": [
              "'Hexavalent chromium compounds below 1000ppm'"
            ]
          },
          "metadata": {
            "tags": []
          },
          "execution_count": 76
        }
      ]
    },
    {
      "cell_type": "code",
      "metadata": {
        "colab": {
          "base_uri": "https://localhost:8080/"
        },
        "id": "Vuuu-R_TtXuc",
        "outputId": "690ec175-babc-495f-b13d-8345171e3aca"
      },
      "source": [
        "df.iloc[:,1]"
      ],
      "execution_count": 80,
      "outputs": [
        {
          "output_type": "execute_result",
          "data": {
            "text/plain": [
              "0                   有害物质名称 限  值\n",
              "1              镉以及镉化合物 100ppm以下\n",
              "2             铅以及铅化合物 1000ppm以下\n",
              "3     铅以及铅化合物(适用于被覆线材) 300ppm以下\n",
              "4             汞以及汞化合物 1000ppm以下\n",
              "5              六价铬化合物 1000ppm以下\n",
              "6                多氯联苯(PCB) 禁止使用\n",
              "7                多氯化萘(PCN) 禁止使用\n",
              "8                          禁止使用\n",
              "9            短链型氯代烷烃(SCCP) 禁止使用\n",
              "10                其它有机氯化合物 禁止使用\n",
              "11          多溴联苯(PBB) 1000ppm以下\n",
              "12                    1000ppm以下\n",
              "13                其它有机溴化合物 禁止使用\n",
              "14                         禁止使用\n",
              "15                         禁止使用\n",
              "16                         禁止使用\n",
              "17                         禁止使用\n",
              "18                         禁止使用\n",
              "19                         禁止使用\n",
              "20                         禁止使用\n",
              "21                         禁止使用\n",
              "22                          NaN\n",
              "23                    1000ppm以下\n",
              "24                          NaN\n",
              "25                         禁止使用\n",
              "Name: ABC有限公司有害物质管理标准, dtype: object"
            ]
          },
          "metadata": {
            "tags": []
          },
          "execution_count": 80
        }
      ]
    },
    {
      "cell_type": "code",
      "metadata": {
        "id": "qq_q_SPEvcbw"
      },
      "source": [
        "def translate_text(filename):\n",
        "\n",
        "  tabula.convert_into(filename, 'data.csv', pages='all')\n",
        "  df = pd.read_csv('data.csv')\n",
        "  translator = Translator()\n",
        "\n",
        "  # def translator_iterate(x, **kwargs):\n",
        "  #   for var in languages:\n",
        "  #     translator.translate()\n",
        "\n",
        "  df['translated_text'] = df.iloc[:,1].astype('str').apply(translator.translate, {'dest':'en','src':'zh-tw'})\n",
        "\n",
        "  return df\n",
        "\n"
      ],
      "execution_count": 166,
      "outputs": []
    },
    {
      "cell_type": "code",
      "metadata": {
        "id": "yeKNFq2Lxp-g"
      },
      "source": [
        "translated_data = translate_text('chemicals_chinese.pdf')"
      ],
      "execution_count": 167,
      "outputs": []
    },
    {
      "cell_type": "code",
      "metadata": {
        "colab": {
          "base_uri": "https://localhost:8080/"
        },
        "id": "mEoJ77ei8hDP",
        "outputId": "31f1abd3-fe48-44d1-8514-27f2c0cf5c06"
      },
      "source": [
        "translated_data['translated_text']\n"
      ],
      "execution_count": 168,
      "outputs": [
        {
          "output_type": "execute_result",
          "data": {
            "text/plain": [
              "0     Translated(src=en, dest=en, text=有害物质名称 限  值, ...\n",
              "1     Translated(src=en, dest=en, text=镉以及镉化合物 100pp...\n",
              "2     Translated(src=en, dest=en, text=铅以及铅化合物 1000p...\n",
              "3     Translated(src=en, dest=en, text=铅以及铅化合物(适用于被覆...\n",
              "4     Translated(src=en, dest=en, text=汞以及汞化合物 1000p...\n",
              "5     Translated(src=en, dest=en, text=六价铬化合物 1000pp...\n",
              "6     Translated(src=en, dest=en, text=多氯联苯(PCB) 禁止使...\n",
              "7     Translated(src=en, dest=en, text=多氯化萘(PCN) 禁止使...\n",
              "8     Translated(src=en, dest=en, text=禁止使用, pronunc...\n",
              "9     Translated(src=en, dest=en, text=短链型氯代烷烃(SCCP)...\n",
              "10    Translated(src=en, dest=en, text=其它有机氯化合物 禁止使用...\n",
              "11    Translated(src=en, dest=en, text=多溴联苯(PBB) 100...\n",
              "12    Translated(src=en, dest=en, text=1000ppm以下, pr...\n",
              "13    Translated(src=en, dest=en, text=其它有机溴化合物 禁止使用...\n",
              "14    Translated(src=en, dest=en, text=禁止使用, pronunc...\n",
              "15    Translated(src=en, dest=en, text=禁止使用, pronunc...\n",
              "16    Translated(src=en, dest=en, text=禁止使用, pronunc...\n",
              "17    Translated(src=en, dest=en, text=禁止使用, pronunc...\n",
              "18    Translated(src=en, dest=en, text=禁止使用, pronunc...\n",
              "19    Translated(src=en, dest=en, text=禁止使用, pronunc...\n",
              "20    Translated(src=en, dest=en, text=禁止使用, pronunc...\n",
              "21    Translated(src=en, dest=en, text=禁止使用, pronunc...\n",
              "22    Translated(src=en, dest=en, text=nan, pronunci...\n",
              "23    Translated(src=en, dest=en, text=1000ppm以下, pr...\n",
              "24    Translated(src=en, dest=en, text=nan, pronunci...\n",
              "25    Translated(src=en, dest=en, text=禁止使用, pronunc...\n",
              "Name: translated_text, dtype: object"
            ]
          },
          "metadata": {
            "tags": []
          },
          "execution_count": 168
        }
      ]
    },
    {
      "cell_type": "code",
      "metadata": {
        "id": "FYBt7aXHHfk1"
      },
      "source": [
        ""
      ],
      "execution_count": null,
      "outputs": []
    }
  ]
}